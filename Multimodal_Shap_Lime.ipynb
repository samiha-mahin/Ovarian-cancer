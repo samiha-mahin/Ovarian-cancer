{
  "nbformat": 4,
  "nbformat_minor": 0,
  "metadata": {
    "colab": {
      "provenance": [],
      "authorship_tag": "ABX9TyPL2I21kOTMffYq7twkXUzl",
      "include_colab_link": true
    },
    "kernelspec": {
      "name": "python3",
      "display_name": "Python 3"
    },
    "language_info": {
      "name": "python"
    }
  },
  "cells": [
    {
      "cell_type": "markdown",
      "metadata": {
        "id": "view-in-github",
        "colab_type": "text"
      },
      "source": [
        "<a href=\"https://colab.research.google.com/github/samiha-mahin/Ovarian-cancer/blob/main/Multimodal_Shap_Lime.ipynb\" target=\"_parent\"><img src=\"https://colab.research.google.com/assets/colab-badge.svg\" alt=\"Open In Colab\"/></a>"
      ]
    },
    {
      "cell_type": "code",
      "source": [
        "!pip install kaggle"
      ],
      "metadata": {
        "id": "VIU_ngbektFr"
      },
      "execution_count": null,
      "outputs": []
    },
    {
      "cell_type": "code",
      "source": [
        "from google.colab import files\n",
        "files.upload()"
      ],
      "metadata": {
        "colab": {
          "base_uri": "https://localhost:8080/",
          "height": 90
        },
        "id": "IoJPPgteTdqC",
        "outputId": "d1da4ddf-698f-44d3-e9c9-c6b8b0d1c475"
      },
      "execution_count": 5,
      "outputs": [
        {
          "output_type": "display_data",
          "data": {
            "text/plain": [
              "<IPython.core.display.HTML object>"
            ],
            "text/html": [
              "\n",
              "     <input type=\"file\" id=\"files-89f2073d-a30d-4403-8d5b-1b91cbd9b5d0\" name=\"files[]\" multiple disabled\n",
              "        style=\"border:none\" />\n",
              "     <output id=\"result-89f2073d-a30d-4403-8d5b-1b91cbd9b5d0\">\n",
              "      Upload widget is only available when the cell has been executed in the\n",
              "      current browser session. Please rerun this cell to enable.\n",
              "      </output>\n",
              "      <script>// Copyright 2017 Google LLC\n",
              "//\n",
              "// Licensed under the Apache License, Version 2.0 (the \"License\");\n",
              "// you may not use this file except in compliance with the License.\n",
              "// You may obtain a copy of the License at\n",
              "//\n",
              "//      http://www.apache.org/licenses/LICENSE-2.0\n",
              "//\n",
              "// Unless required by applicable law or agreed to in writing, software\n",
              "// distributed under the License is distributed on an \"AS IS\" BASIS,\n",
              "// WITHOUT WARRANTIES OR CONDITIONS OF ANY KIND, either express or implied.\n",
              "// See the License for the specific language governing permissions and\n",
              "// limitations under the License.\n",
              "\n",
              "/**\n",
              " * @fileoverview Helpers for google.colab Python module.\n",
              " */\n",
              "(function(scope) {\n",
              "function span(text, styleAttributes = {}) {\n",
              "  const element = document.createElement('span');\n",
              "  element.textContent = text;\n",
              "  for (const key of Object.keys(styleAttributes)) {\n",
              "    element.style[key] = styleAttributes[key];\n",
              "  }\n",
              "  return element;\n",
              "}\n",
              "\n",
              "// Max number of bytes which will be uploaded at a time.\n",
              "const MAX_PAYLOAD_SIZE = 100 * 1024;\n",
              "\n",
              "function _uploadFiles(inputId, outputId) {\n",
              "  const steps = uploadFilesStep(inputId, outputId);\n",
              "  const outputElement = document.getElementById(outputId);\n",
              "  // Cache steps on the outputElement to make it available for the next call\n",
              "  // to uploadFilesContinue from Python.\n",
              "  outputElement.steps = steps;\n",
              "\n",
              "  return _uploadFilesContinue(outputId);\n",
              "}\n",
              "\n",
              "// This is roughly an async generator (not supported in the browser yet),\n",
              "// where there are multiple asynchronous steps and the Python side is going\n",
              "// to poll for completion of each step.\n",
              "// This uses a Promise to block the python side on completion of each step,\n",
              "// then passes the result of the previous step as the input to the next step.\n",
              "function _uploadFilesContinue(outputId) {\n",
              "  const outputElement = document.getElementById(outputId);\n",
              "  const steps = outputElement.steps;\n",
              "\n",
              "  const next = steps.next(outputElement.lastPromiseValue);\n",
              "  return Promise.resolve(next.value.promise).then((value) => {\n",
              "    // Cache the last promise value to make it available to the next\n",
              "    // step of the generator.\n",
              "    outputElement.lastPromiseValue = value;\n",
              "    return next.value.response;\n",
              "  });\n",
              "}\n",
              "\n",
              "/**\n",
              " * Generator function which is called between each async step of the upload\n",
              " * process.\n",
              " * @param {string} inputId Element ID of the input file picker element.\n",
              " * @param {string} outputId Element ID of the output display.\n",
              " * @return {!Iterable<!Object>} Iterable of next steps.\n",
              " */\n",
              "function* uploadFilesStep(inputId, outputId) {\n",
              "  const inputElement = document.getElementById(inputId);\n",
              "  inputElement.disabled = false;\n",
              "\n",
              "  const outputElement = document.getElementById(outputId);\n",
              "  outputElement.innerHTML = '';\n",
              "\n",
              "  const pickedPromise = new Promise((resolve) => {\n",
              "    inputElement.addEventListener('change', (e) => {\n",
              "      resolve(e.target.files);\n",
              "    });\n",
              "  });\n",
              "\n",
              "  const cancel = document.createElement('button');\n",
              "  inputElement.parentElement.appendChild(cancel);\n",
              "  cancel.textContent = 'Cancel upload';\n",
              "  const cancelPromise = new Promise((resolve) => {\n",
              "    cancel.onclick = () => {\n",
              "      resolve(null);\n",
              "    };\n",
              "  });\n",
              "\n",
              "  // Wait for the user to pick the files.\n",
              "  const files = yield {\n",
              "    promise: Promise.race([pickedPromise, cancelPromise]),\n",
              "    response: {\n",
              "      action: 'starting',\n",
              "    }\n",
              "  };\n",
              "\n",
              "  cancel.remove();\n",
              "\n",
              "  // Disable the input element since further picks are not allowed.\n",
              "  inputElement.disabled = true;\n",
              "\n",
              "  if (!files) {\n",
              "    return {\n",
              "      response: {\n",
              "        action: 'complete',\n",
              "      }\n",
              "    };\n",
              "  }\n",
              "\n",
              "  for (const file of files) {\n",
              "    const li = document.createElement('li');\n",
              "    li.append(span(file.name, {fontWeight: 'bold'}));\n",
              "    li.append(span(\n",
              "        `(${file.type || 'n/a'}) - ${file.size} bytes, ` +\n",
              "        `last modified: ${\n",
              "            file.lastModifiedDate ? file.lastModifiedDate.toLocaleDateString() :\n",
              "                                    'n/a'} - `));\n",
              "    const percent = span('0% done');\n",
              "    li.appendChild(percent);\n",
              "\n",
              "    outputElement.appendChild(li);\n",
              "\n",
              "    const fileDataPromise = new Promise((resolve) => {\n",
              "      const reader = new FileReader();\n",
              "      reader.onload = (e) => {\n",
              "        resolve(e.target.result);\n",
              "      };\n",
              "      reader.readAsArrayBuffer(file);\n",
              "    });\n",
              "    // Wait for the data to be ready.\n",
              "    let fileData = yield {\n",
              "      promise: fileDataPromise,\n",
              "      response: {\n",
              "        action: 'continue',\n",
              "      }\n",
              "    };\n",
              "\n",
              "    // Use a chunked sending to avoid message size limits. See b/62115660.\n",
              "    let position = 0;\n",
              "    do {\n",
              "      const length = Math.min(fileData.byteLength - position, MAX_PAYLOAD_SIZE);\n",
              "      const chunk = new Uint8Array(fileData, position, length);\n",
              "      position += length;\n",
              "\n",
              "      const base64 = btoa(String.fromCharCode.apply(null, chunk));\n",
              "      yield {\n",
              "        response: {\n",
              "          action: 'append',\n",
              "          file: file.name,\n",
              "          data: base64,\n",
              "        },\n",
              "      };\n",
              "\n",
              "      let percentDone = fileData.byteLength === 0 ?\n",
              "          100 :\n",
              "          Math.round((position / fileData.byteLength) * 100);\n",
              "      percent.textContent = `${percentDone}% done`;\n",
              "\n",
              "    } while (position < fileData.byteLength);\n",
              "  }\n",
              "\n",
              "  // All done.\n",
              "  yield {\n",
              "    response: {\n",
              "      action: 'complete',\n",
              "    }\n",
              "  };\n",
              "}\n",
              "\n",
              "scope.google = scope.google || {};\n",
              "scope.google.colab = scope.google.colab || {};\n",
              "scope.google.colab._files = {\n",
              "  _uploadFiles,\n",
              "  _uploadFilesContinue,\n",
              "};\n",
              "})(self);\n",
              "</script> "
            ]
          },
          "metadata": {}
        },
        {
          "output_type": "stream",
          "name": "stdout",
          "text": [
            "Saving kaggle.json to kaggle.json\n"
          ]
        },
        {
          "output_type": "execute_result",
          "data": {
            "text/plain": [
              "{'kaggle.json': b'{\"username\":\"samihamuntahamahin\",\"key\":\"1ad5aaba9143fbd38da418ad8d278398\"}'}"
            ]
          },
          "metadata": {},
          "execution_count": 5
        }
      ]
    },
    {
      "cell_type": "code",
      "source": [
        "!mkdir -p ~/.kaggle\n",
        "!mv kaggle.json ~/.kaggle/\n",
        "!chmod 600 ~/.kaggle/kaggle.json\n",
        "\n",
        "\n",
        "\n",
        "!kaggle datasets list -s \"ovarian cancer\""
      ],
      "metadata": {
        "colab": {
          "base_uri": "https://localhost:8080/"
        },
        "id": "-1zmr8uWlEWY",
        "outputId": "1f2b17bd-ad3d-4035-b097-7b75a5bea026"
      },
      "execution_count": 6,
      "outputs": [
        {
          "output_type": "stream",
          "name": "stdout",
          "text": [
            "ref                                                             title                                                      size  lastUpdated                 downloadCount  voteCount  usabilityRating  \n",
            "--------------------------------------------------------------  --------------------------------------------------  -----------  --------------------------  -------------  ---------  ---------------  \n",
            "saurabhshahane/predict-ovarian-cancer                           Predict Ovarian Cancer                                   322564  2021-02-06 08:15:47.360000           2920         47  0.7058824        \n",
            "yoshifumimiya/6-ovarian-cancer-datasets                         7 ovarian cancer datasets                             239456735  2024-04-21 13:37:49.933000           3572         49  0.7647059        \n",
            "sunilthite/ovarian-cancer-classification-dataset                Ovarian Cancer Subtype Classification                3554471607  2023-10-31 08:34:17.390000           1653         39  1.0              \n",
            "jirkaborovec/tiles-of-ovarian-cancer-subtype                    UBC-OCEAN: Tiles 🖽 of 🔬Ovarian Cancer               13810976172  2023-11-19 08:42:32.203000            184         30  0.8125           \n",
            "sohier/ubc-ovarian-cancer-competition-supplemental-masks        UBC Ovarian Cancer Competition Supplemental Masks     372839656  2023-11-16 22:41:05.027000           1444         22  0.5              \n",
            "jirkaborovec/tiles-of-cancer-2048px-scale-0-25                  UBC-OCEAN: Tiles🖽 of Cancer🔬 2048px|scale*0.25      53076235140  2023-11-08 05:33:17.887000           1000         63  0.875            \n",
            "alexandervc/scrnaseq-ovarian-cancer-ascites-natmed2020          scRNA-seq  ovarian cancer ascites NatMed2020          162581577  2022-05-15 20:37:57.277000             79         13  0.625            \n",
            "peymannejat/ovarian-cancer-pathology-patches                    Ovarian Cancer Pathology Patches                    18237659589  2023-02-02 22:14:02.850000            432         14  0.75             \n",
            "toddgardiner/ovariancancertma-stanforddatabase                  OvarianCancerTMA-StanfordDatabase                      58553193  2023-12-29 08:10:23.267000            378         29  0.7058824        \n",
            "jirkaborovec/ubc-ocean-tiles-w-masks-2048px-scale-0-25          UBC-OCEAN: Tiles🖽 w/ masks🔬 2048px | scale 0.25     19058059551  2023-11-22 18:17:53.310000            488         39  0.8235294        \n",
            "yoshifumimiya/ovarian-cancer-tcga                               ovarian cancer (TCGA)                                  60177461  2023-06-04 17:48:34.417000            108          7  0.3529412        \n",
            "antimoni/cancer-deaths-by-country-and-type-1990-2016            Cancer Deaths by Country and Type (1990-2016) 🧮💀         971143  2023-09-13 13:03:54.623000           1381         46  0.9411765        \n",
            "dheerajmpai/ubs-ocean-split-4-cc2                               UBC OCEAN Split 4 (Class CC- Part 2)                77824278070  2023-10-09 14:56:35.773000            122          6  0.875            \n",
            "alexandervc/scrnaseq-highgrade-serous-ovarian-cancer-hgsoc      scRNA-seq high-grade serous ovarian cancer (HGSOC)    118808148  2022-05-15 22:13:46.043000             45          7  0.5882353        \n",
            "rdhenkawat/ovarian-cancer                                       ovarian cancer                                          3772400  2022-05-05 18:06:13.077000            118          1  0.3125           \n",
            "bitsnpieces/ovarian-cancer-and-subtypes-dataset-histopathology  Ovarian Cancer & Subtypes Dataset Histopathology       87194961  2023-12-24 01:04:39.270000            400          2  0.625            \n",
            "aliabedimadiseh/breast-cancer-genes                             Breast cancer genes                                      489441  2023-05-04 18:27:12.530000            285          9  0.9411765        \n",
            "hansoullee/platinum-resistant-ovarian-cancer-clinical-trials    Platinum Resistant Ovarian Cancer Clinical Trials        149951  2022-02-06 02:00:19.320000            205          5  0.47058824       \n",
            "dagobertopanassol/ubc-red-green-cells-croped-in-photoshop       UBC red green cells croped in photoshop              1104694961  2023-12-31 01:04:47.813000             19          5  0.9411765        \n",
            "dantee/trained-clam-for-ovarian-cancer                          Trained CLAM for Ovarian Cancer                        14730125  2024-02-09 10:22:59.387000             31          1  0.4117647        \n"
          ]
        }
      ]
    },
    {
      "cell_type": "code",
      "source": [
        "!kaggle datasets download -d bitsnpieces/ovarian-cancer-and-subtypes-dataset-histopathology --unzip"
      ],
      "metadata": {
        "colab": {
          "base_uri": "https://localhost:8080/"
        },
        "id": "KwQpFoiflJhr",
        "outputId": "6e0ddb8f-dff6-4062-b4d6-efb460e9c976"
      },
      "execution_count": 7,
      "outputs": [
        {
          "output_type": "stream",
          "name": "stdout",
          "text": [
            "Dataset URL: https://www.kaggle.com/datasets/bitsnpieces/ovarian-cancer-and-subtypes-dataset-histopathology\n",
            "License(s): CC-BY-SA-4.0\n"
          ]
        }
      ]
    },
    {
      "cell_type": "code",
      "source": [
        "import os\n",
        "import cv2\n",
        "import numpy as np\n",
        "import pandas as pd\n",
        "import tensorflow as tf\n",
        "import matplotlib.pyplot as plt\n",
        "import seaborn as sns\n",
        "from sklearn.model_selection import train_test_split\n",
        "from sklearn.preprocessing import StandardScaler\n",
        "from sklearn.metrics import classification_report, confusion_matrix\n",
        "from tensorflow.keras.utils import to_categorical\n",
        "from tensorflow.keras.applications.efficientnet_v2 import EfficientNetV2B2, preprocess_input\n",
        "from tensorflow.keras import layers, Input, Model\n",
        "from tensorflow.keras.callbacks import ModelCheckpoint, ReduceLROnPlateau, EarlyStopping\n",
        "from tensorflow.keras.optimizers import Adam\n",
        "\n",
        "# -----------------------------\n",
        "# Load and preprocess image data\n",
        "# -----------------------------\n",
        "IMG_SIZE = 224\n",
        "DATASET_PATH = \"OvarianCancer\"\n",
        "classes = [\"Mucinous\", \"Non_Cancerous\", \"Endometri\", \"Serous\", \"Clear_Cell\"]\n",
        "class_mapping = {name: i for i, name in enumerate(classes)}\n",
        "\n",
        "X_images, y_labels = [], []\n",
        "\n",
        "def augment_image(img):\n",
        "    img = cv2.flip(img, 1) if np.random.rand() < 0.5 else img\n",
        "    return img\n",
        "\n",
        "for class_name in classes:\n",
        "    folder = os.path.join(DATASET_PATH, class_name)\n",
        "    if not os.path.exists(folder): continue\n",
        "    for img_file in os.listdir(folder):\n",
        "        img_path = os.path.join(folder, img_file)\n",
        "        img = cv2.imread(img_path)\n",
        "        if img is None: continue\n",
        "        img = cv2.resize(img, (IMG_SIZE, IMG_SIZE))\n",
        "        img = augment_image(img)\n",
        "        img = preprocess_input(img)\n",
        "        X_images.append(img)\n",
        "        y_labels.append(class_mapping[class_name])\n",
        "\n",
        "X_images = np.array(X_images)\n",
        "y_labels = to_categorical(y_labels, num_classes=len(classes))\n",
        "\n",
        "# -----------------------------\n",
        "# Load and preprocess tabular data\n",
        "# -----------------------------\n",
        "df = pd.read_csv(\"Ovarian_patient_data.csv\")\n",
        "df.columns = df.columns.str.strip().str.replace(\" \", \"_\").str.lower()\n",
        "features = ['age', 'ca125', 'cancerstage', 'bmi']\n",
        "df = df.dropna(subset=features).reset_index(drop=True)\n",
        "df = df.iloc[:len(X_images)]  # Ensure alignment\n",
        "\n",
        "scaler = StandardScaler()\n",
        "X_tabular = scaler.fit_transform(df[features].values)\n",
        "\n",
        "# -----------------------------\n",
        "# Train-test split\n",
        "# -----------------------------\n",
        "X_train_img, X_test_img, X_train_tab, X_test_tab, y_train, y_test = train_test_split(\n",
        "    X_images, X_tabular, y_labels, test_size=0.2, random_state=42\n",
        ")\n",
        "\n",
        "# -----------------------------\n",
        "# Build multimodal model\n",
        "# -----------------------------\n",
        "image_input = Input(shape=(224, 224, 3), name=\"image_input\")\n",
        "base_model = EfficientNetV2B2(include_top=False, weights=\"imagenet\", input_tensor=image_input, pooling=\"avg\")\n",
        "base_model.trainable = True\n",
        "x = layers.Dense(256, activation=\"relu\")(base_model.output)\n",
        "x = layers.Dropout(0.4)(x)\n",
        "\n",
        "# Tabular model - enhanced\n",
        "tabular_input = Input(shape=(X_tabular.shape[1],), name=\"tabular_input\")\n",
        "y = layers.Dense(128, activation=\"relu\")(tabular_input)\n",
        "y = layers.BatchNormalization()(y)\n",
        "y = layers.Dropout(0.3)(y)\n",
        "y = layers.Dense(64, activation=\"relu\")(y)\n",
        "y = layers.BatchNormalization()(y)\n",
        "y = layers.Dense(32, activation=\"relu\")(y)\n",
        "\n",
        "# Combine\n",
        "combined = layers.Concatenate()([x, y])\n",
        "z = layers.Dense(256, activation='relu')(combined)\n",
        "z = layers.Dropout(0.4)(z)\n",
        "z = layers.Dense(128, activation='relu')(z)\n",
        "z = layers.Dropout(0.3)(z)\n",
        "output = layers.Dense(len(classes), activation='softmax')(z)\n",
        "\n",
        "model = Model(inputs=[image_input, tabular_input], outputs=output)\n",
        "model.compile(\n",
        "    optimizer=Adam(learning_rate=1e-4),\n",
        "    loss=tf.keras.losses.CategoricalCrossentropy(label_smoothing=0.1),\n",
        "    metrics=[\"accuracy\"]\n",
        ")\n",
        "\n",
        "# -----------------------------\n",
        "# Callbacks\n",
        "# -----------------------------\n",
        "checkpoint = ModelCheckpoint(\"best_model_b2.h5\", monitor=\"val_accuracy\", save_best_only=True, mode=\"max\", verbose=1)\n",
        "lr_reducer = ReduceLROnPlateau(monitor='val_accuracy', factor=0.5, patience=3, min_lr=1e-6, verbose=1)\n",
        "early_stop = EarlyStopping(monitor='val_accuracy', patience=7, restore_best_weights=True)\n",
        "\n",
        "# -----------------------------\n",
        "# Train\n",
        "# -----------------------------\n",
        "history = model.fit(\n",
        "    [X_train_img, X_train_tab],\n",
        "    y_train,\n",
        "    validation_data=([X_test_img, X_test_tab], y_test),\n",
        "    epochs=25,\n",
        "    batch_size=16,\n",
        "    callbacks=[checkpoint, lr_reducer, early_stop]\n",
        ")\n",
        "\n",
        "# -----------------------------\n",
        "# Evaluate\n",
        "# -----------------------------\n",
        "model.load_weights(\"best_model_b2.h5\")\n",
        "loss, acc = model.evaluate([X_test_img, X_test_tab], y_test)\n",
        "print(f\"\\n✅ Best Accuracy with EfficientNetV2B2: {acc * 100:.2f}%\")"
      ],
      "metadata": {
        "colab": {
          "base_uri": "https://localhost:8080/"
        },
        "id": "Hy30RwBWlPfQ",
        "outputId": "687a4a02-8ec4-46c7-affc-3eccda10ccc3"
      },
      "execution_count": 11,
      "outputs": [
        {
          "output_type": "stream",
          "name": "stdout",
          "text": [
            "Downloading data from https://storage.googleapis.com/tensorflow/keras-applications/efficientnet_v2/efficientnetv2-b2_notop.h5\n",
            "\u001b[1m35839040/35839040\u001b[0m \u001b[32m━━━━━━━━━━━━━━━━━━━━\u001b[0m\u001b[37m\u001b[0m \u001b[1m0s\u001b[0m 0us/step\n",
            "Epoch 1/25\n",
            "\u001b[1m25/25\u001b[0m \u001b[32m━━━━━━━━━━━━━━━━━━━━\u001b[0m\u001b[37m\u001b[0m \u001b[1m0s\u001b[0m 6s/step - accuracy: 0.2502 - loss: 1.6321\n",
            "Epoch 1: val_accuracy improved from -inf to 0.42000, saving model to best_model_b2.h5\n"
          ]
        },
        {
          "output_type": "stream",
          "name": "stderr",
          "text": [
            "WARNING:absl:You are saving your model as an HDF5 file via `model.save()` or `keras.saving.save_model(model)`. This file format is considered legacy. We recommend using instead the native Keras format, e.g. `model.save('my_model.keras')` or `keras.saving.save_model(model, 'my_model.keras')`. \n"
          ]
        },
        {
          "output_type": "stream",
          "name": "stdout",
          "text": [
            "\b\b\b\b\b\b\b\b\b\b\b\b\b\b\b\b\b\b\b\b\b\b\b\b\b\b\b\b\b\b\b\b\b\b\b\b\b\b\b\b\b\b\b\b\b\b\b\b\b\b\b\b\b\b\b\b\b\b\b\b\b\b\b\b\b\b\b\b\b\b\b\r\u001b[1m25/25\u001b[0m \u001b[32m━━━━━━━━━━━━━━━━━━━━\u001b[0m\u001b[37m\u001b[0m \u001b[1m263s\u001b[0m 6s/step - accuracy: 0.2512 - loss: 1.6310 - val_accuracy: 0.4200 - val_loss: 1.5622 - learning_rate: 1.0000e-04\n",
            "Epoch 2/25\n",
            "\u001b[1m25/25\u001b[0m \u001b[32m━━━━━━━━━━━━━━━━━━━━\u001b[0m\u001b[37m\u001b[0m \u001b[1m0s\u001b[0m 7s/step - accuracy: 0.2914 - loss: 1.5936\n",
            "Epoch 2: val_accuracy improved from 0.42000 to 0.53000, saving model to best_model_b2.h5\n"
          ]
        },
        {
          "output_type": "stream",
          "name": "stderr",
          "text": [
            "WARNING:absl:You are saving your model as an HDF5 file via `model.save()` or `keras.saving.save_model(model)`. This file format is considered legacy. We recommend using instead the native Keras format, e.g. `model.save('my_model.keras')` or `keras.saving.save_model(model, 'my_model.keras')`. \n"
          ]
        },
        {
          "output_type": "stream",
          "name": "stdout",
          "text": [
            "\b\b\b\b\b\b\b\b\b\b\b\b\b\b\b\b\b\b\b\b\b\b\b\b\b\b\b\b\b\b\b\b\b\b\b\b\b\b\b\b\b\b\b\b\b\b\b\b\b\b\b\b\b\b\b\b\b\b\b\b\b\b\b\b\b\b\b\b\b\b\b\r\u001b[1m25/25\u001b[0m \u001b[32m━━━━━━━━━━━━━━━━━━━━\u001b[0m\u001b[37m\u001b[0m \u001b[1m219s\u001b[0m 7s/step - accuracy: 0.2911 - loss: 1.5935 - val_accuracy: 0.5300 - val_loss: 1.4972 - learning_rate: 1.0000e-04\n",
            "Epoch 3/25\n",
            "\u001b[1m25/25\u001b[0m \u001b[32m━━━━━━━━━━━━━━━━━━━━\u001b[0m\u001b[37m\u001b[0m \u001b[1m0s\u001b[0m 5s/step - accuracy: 0.3463 - loss: 1.5139\n",
            "Epoch 3: val_accuracy improved from 0.53000 to 0.59000, saving model to best_model_b2.h5\n"
          ]
        },
        {
          "output_type": "stream",
          "name": "stderr",
          "text": [
            "WARNING:absl:You are saving your model as an HDF5 file via `model.save()` or `keras.saving.save_model(model)`. This file format is considered legacy. We recommend using instead the native Keras format, e.g. `model.save('my_model.keras')` or `keras.saving.save_model(model, 'my_model.keras')`. \n"
          ]
        },
        {
          "output_type": "stream",
          "name": "stdout",
          "text": [
            "\b\b\b\b\b\b\b\b\b\b\b\b\b\b\b\b\b\b\b\b\b\b\b\b\b\b\b\b\b\b\b\b\b\b\b\b\b\b\b\b\b\b\b\b\b\b\b\b\b\b\b\b\b\b\b\b\b\b\b\b\b\b\b\b\b\b\b\b\b\b\b\r\u001b[1m25/25\u001b[0m \u001b[32m━━━━━━━━━━━━━━━━━━━━\u001b[0m\u001b[37m\u001b[0m \u001b[1m147s\u001b[0m 6s/step - accuracy: 0.3456 - loss: 1.5138 - val_accuracy: 0.5900 - val_loss: 1.4132 - learning_rate: 1.0000e-04\n",
            "Epoch 4/25\n",
            "\u001b[1m25/25\u001b[0m \u001b[32m━━━━━━━━━━━━━━━━━━━━\u001b[0m\u001b[37m\u001b[0m \u001b[1m0s\u001b[0m 5s/step - accuracy: 0.3995 - loss: 1.4386\n",
            "Epoch 4: val_accuracy improved from 0.59000 to 0.68000, saving model to best_model_b2.h5\n"
          ]
        },
        {
          "output_type": "stream",
          "name": "stderr",
          "text": [
            "WARNING:absl:You are saving your model as an HDF5 file via `model.save()` or `keras.saving.save_model(model)`. This file format is considered legacy. We recommend using instead the native Keras format, e.g. `model.save('my_model.keras')` or `keras.saving.save_model(model, 'my_model.keras')`. \n"
          ]
        },
        {
          "output_type": "stream",
          "name": "stdout",
          "text": [
            "\b\b\b\b\b\b\b\b\b\b\b\b\b\b\b\b\b\b\b\b\b\b\b\b\b\b\b\b\b\b\b\b\b\b\b\b\b\b\b\b\b\b\b\b\b\b\b\b\b\b\b\b\b\b\b\b\b\b\b\b\b\b\b\b\b\b\b\b\b\b\b\r\u001b[1m25/25\u001b[0m \u001b[32m━━━━━━━━━━━━━━━━━━━━\u001b[0m\u001b[37m\u001b[0m \u001b[1m146s\u001b[0m 6s/step - accuracy: 0.4002 - loss: 1.4381 - val_accuracy: 0.6800 - val_loss: 1.3375 - learning_rate: 1.0000e-04\n",
            "Epoch 5/25\n",
            "\u001b[1m25/25\u001b[0m \u001b[32m━━━━━━━━━━━━━━━━━━━━\u001b[0m\u001b[37m\u001b[0m \u001b[1m0s\u001b[0m 6s/step - accuracy: 0.4767 - loss: 1.3441\n",
            "Epoch 5: val_accuracy improved from 0.68000 to 0.73000, saving model to best_model_b2.h5\n"
          ]
        },
        {
          "output_type": "stream",
          "name": "stderr",
          "text": [
            "WARNING:absl:You are saving your model as an HDF5 file via `model.save()` or `keras.saving.save_model(model)`. This file format is considered legacy. We recommend using instead the native Keras format, e.g. `model.save('my_model.keras')` or `keras.saving.save_model(model, 'my_model.keras')`. \n"
          ]
        },
        {
          "output_type": "stream",
          "name": "stdout",
          "text": [
            "\b\b\b\b\b\b\b\b\b\b\b\b\b\b\b\b\b\b\b\b\b\b\b\b\b\b\b\b\b\b\b\b\b\b\b\b\b\b\b\b\b\b\b\b\b\b\b\b\b\b\b\b\b\b\b\b\b\b\b\b\b\b\b\b\b\b\b\b\b\b\b\r\u001b[1m25/25\u001b[0m \u001b[32m━━━━━━━━━━━━━━━━━━━━\u001b[0m\u001b[37m\u001b[0m \u001b[1m205s\u001b[0m 6s/step - accuracy: 0.4777 - loss: 1.3429 - val_accuracy: 0.7300 - val_loss: 1.2702 - learning_rate: 1.0000e-04\n",
            "Epoch 6/25\n",
            "\u001b[1m25/25\u001b[0m \u001b[32m━━━━━━━━━━━━━━━━━━━━\u001b[0m\u001b[37m\u001b[0m \u001b[1m0s\u001b[0m 6s/step - accuracy: 0.5274 - loss: 1.2821\n",
            "Epoch 6: val_accuracy improved from 0.73000 to 0.81000, saving model to best_model_b2.h5\n"
          ]
        },
        {
          "output_type": "stream",
          "name": "stderr",
          "text": [
            "WARNING:absl:You are saving your model as an HDF5 file via `model.save()` or `keras.saving.save_model(model)`. This file format is considered legacy. We recommend using instead the native Keras format, e.g. `model.save('my_model.keras')` or `keras.saving.save_model(model, 'my_model.keras')`. \n"
          ]
        },
        {
          "output_type": "stream",
          "name": "stdout",
          "text": [
            "\b\b\b\b\b\b\b\b\b\b\b\b\b\b\b\b\b\b\b\b\b\b\b\b\b\b\b\b\b\b\b\b\b\b\b\b\b\b\b\b\b\b\b\b\b\b\b\b\b\b\b\b\b\b\b\b\b\b\b\b\b\b\b\b\b\b\b\b\b\b\b\r\u001b[1m25/25\u001b[0m \u001b[32m━━━━━━━━━━━━━━━━━━━━\u001b[0m\u001b[37m\u001b[0m \u001b[1m168s\u001b[0m 7s/step - accuracy: 0.5279 - loss: 1.2810 - val_accuracy: 0.8100 - val_loss: 1.1817 - learning_rate: 1.0000e-04\n",
            "Epoch 7/25\n",
            "\u001b[1m25/25\u001b[0m \u001b[32m━━━━━━━━━━━━━━━━━━━━\u001b[0m\u001b[37m\u001b[0m \u001b[1m0s\u001b[0m 6s/step - accuracy: 0.5529 - loss: 1.2129\n",
            "Epoch 7: val_accuracy did not improve from 0.81000\n",
            "\u001b[1m25/25\u001b[0m \u001b[32m━━━━━━━━━━━━━━━━━━━━\u001b[0m\u001b[37m\u001b[0m \u001b[1m182s\u001b[0m 6s/step - accuracy: 0.5543 - loss: 1.2113 - val_accuracy: 0.7800 - val_loss: 1.1304 - learning_rate: 1.0000e-04\n",
            "Epoch 8/25\n",
            "\u001b[1m25/25\u001b[0m \u001b[32m━━━━━━━━━━━━━━━━━━━━\u001b[0m\u001b[37m\u001b[0m \u001b[1m0s\u001b[0m 6s/step - accuracy: 0.6237 - loss: 1.1169\n",
            "Epoch 8: val_accuracy improved from 0.81000 to 0.82000, saving model to best_model_b2.h5\n"
          ]
        },
        {
          "output_type": "stream",
          "name": "stderr",
          "text": [
            "WARNING:absl:You are saving your model as an HDF5 file via `model.save()` or `keras.saving.save_model(model)`. This file format is considered legacy. We recommend using instead the native Keras format, e.g. `model.save('my_model.keras')` or `keras.saving.save_model(model, 'my_model.keras')`. \n"
          ]
        },
        {
          "output_type": "stream",
          "name": "stdout",
          "text": [
            "\b\b\b\b\b\b\b\b\b\b\b\b\b\b\b\b\b\b\b\b\b\b\b\b\b\b\b\b\b\b\b\b\b\b\b\b\b\b\b\b\b\b\b\b\b\b\b\b\b\b\b\b\b\b\b\b\b\b\b\b\b\b\b\b\b\b\b\b\b\b\b\r\u001b[1m25/25\u001b[0m \u001b[32m━━━━━━━━━━━━━━━━━━━━\u001b[0m\u001b[37m\u001b[0m \u001b[1m163s\u001b[0m 7s/step - accuracy: 0.6242 - loss: 1.1168 - val_accuracy: 0.8200 - val_loss: 1.0379 - learning_rate: 1.0000e-04\n",
            "Epoch 9/25\n",
            "\u001b[1m25/25\u001b[0m \u001b[32m━━━━━━━━━━━━━━━━━━━━\u001b[0m\u001b[37m\u001b[0m \u001b[1m0s\u001b[0m 6s/step - accuracy: 0.6715 - loss: 1.0770\n",
            "Epoch 9: val_accuracy did not improve from 0.82000\n",
            "\u001b[1m25/25\u001b[0m \u001b[32m━━━━━━━━━━━━━━━━━━━━\u001b[0m\u001b[37m\u001b[0m \u001b[1m163s\u001b[0m 6s/step - accuracy: 0.6717 - loss: 1.0756 - val_accuracy: 0.8100 - val_loss: 0.9450 - learning_rate: 1.0000e-04\n",
            "Epoch 10/25\n",
            "\u001b[1m25/25\u001b[0m \u001b[32m━━━━━━━━━━━━━━━━━━━━\u001b[0m\u001b[37m\u001b[0m \u001b[1m0s\u001b[0m 6s/step - accuracy: 0.7892 - loss: 0.9720\n",
            "Epoch 10: val_accuracy did not improve from 0.82000\n",
            "\u001b[1m25/25\u001b[0m \u001b[32m━━━━━━━━━━━━━━━━━━━━\u001b[0m\u001b[37m\u001b[0m \u001b[1m155s\u001b[0m 6s/step - accuracy: 0.7886 - loss: 0.9718 - val_accuracy: 0.8200 - val_loss: 0.8613 - learning_rate: 1.0000e-04\n",
            "Epoch 11/25\n",
            "\u001b[1m25/25\u001b[0m \u001b[32m━━━━━━━━━━━━━━━━━━━━\u001b[0m\u001b[37m\u001b[0m \u001b[1m0s\u001b[0m 5s/step - accuracy: 0.7671 - loss: 0.8917\n",
            "Epoch 11: val_accuracy improved from 0.82000 to 0.84000, saving model to best_model_b2.h5\n"
          ]
        },
        {
          "output_type": "stream",
          "name": "stderr",
          "text": [
            "WARNING:absl:You are saving your model as an HDF5 file via `model.save()` or `keras.saving.save_model(model)`. This file format is considered legacy. We recommend using instead the native Keras format, e.g. `model.save('my_model.keras')` or `keras.saving.save_model(model, 'my_model.keras')`. \n"
          ]
        },
        {
          "output_type": "stream",
          "name": "stdout",
          "text": [
            "\b\b\b\b\b\b\b\b\b\b\b\b\b\b\b\b\b\b\b\b\b\b\b\b\b\b\b\b\b\b\b\b\b\b\b\b\b\b\b\b\b\b\b\b\b\b\b\b\b\b\b\b\b\b\b\b\b\b\b\b\b\b\b\b\b\b\b\b\b\b\b\r\u001b[1m25/25\u001b[0m \u001b[32m━━━━━━━━━━━━━━━━━━━━\u001b[0m\u001b[37m\u001b[0m \u001b[1m145s\u001b[0m 6s/step - accuracy: 0.7688 - loss: 0.8896 - val_accuracy: 0.8400 - val_loss: 0.8083 - learning_rate: 1.0000e-04\n",
            "Epoch 12/25\n",
            "\u001b[1m25/25\u001b[0m \u001b[32m━━━━━━━━━━━━━━━━━━━━\u001b[0m\u001b[37m\u001b[0m \u001b[1m0s\u001b[0m 5s/step - accuracy: 0.8534 - loss: 0.8057\n",
            "Epoch 12: val_accuracy improved from 0.84000 to 0.85000, saving model to best_model_b2.h5\n"
          ]
        },
        {
          "output_type": "stream",
          "name": "stderr",
          "text": [
            "WARNING:absl:You are saving your model as an HDF5 file via `model.save()` or `keras.saving.save_model(model)`. This file format is considered legacy. We recommend using instead the native Keras format, e.g. `model.save('my_model.keras')` or `keras.saving.save_model(model, 'my_model.keras')`. \n"
          ]
        },
        {
          "output_type": "stream",
          "name": "stdout",
          "text": [
            "\b\b\b\b\b\b\b\b\b\b\b\b\b\b\b\b\b\b\b\b\b\b\b\b\b\b\b\b\b\b\b\b\b\b\b\b\b\b\b\b\b\b\b\b\b\b\b\b\b\b\b\b\b\b\b\b\b\b\b\b\b\b\b\b\b\b\b\b\b\b\b\r\u001b[1m25/25\u001b[0m \u001b[32m━━━━━━━━━━━━━━━━━━━━\u001b[0m\u001b[37m\u001b[0m \u001b[1m148s\u001b[0m 6s/step - accuracy: 0.8534 - loss: 0.8052 - val_accuracy: 0.8500 - val_loss: 0.7496 - learning_rate: 1.0000e-04\n",
            "Epoch 13/25\n",
            "\u001b[1m25/25\u001b[0m \u001b[32m━━━━━━━━━━━━━━━━━━━━\u001b[0m\u001b[37m\u001b[0m \u001b[1m0s\u001b[0m 5s/step - accuracy: 0.8866 - loss: 0.7050\n",
            "Epoch 13: val_accuracy improved from 0.85000 to 0.86000, saving model to best_model_b2.h5\n"
          ]
        },
        {
          "output_type": "stream",
          "name": "stderr",
          "text": [
            "WARNING:absl:You are saving your model as an HDF5 file via `model.save()` or `keras.saving.save_model(model)`. This file format is considered legacy. We recommend using instead the native Keras format, e.g. `model.save('my_model.keras')` or `keras.saving.save_model(model, 'my_model.keras')`. \n"
          ]
        },
        {
          "output_type": "stream",
          "name": "stdout",
          "text": [
            "\b\b\b\b\b\b\b\b\b\b\b\b\b\b\b\b\b\b\b\b\b\b\b\b\b\b\b\b\b\b\b\b\b\b\b\b\b\b\b\b\b\b\b\b\b\b\b\b\b\b\b\b\b\b\b\b\b\b\b\b\b\b\b\b\b\b\b\b\b\b\b\r\u001b[1m25/25\u001b[0m \u001b[32m━━━━━━━━━━━━━━━━━━━━\u001b[0m\u001b[37m\u001b[0m \u001b[1m200s\u001b[0m 6s/step - accuracy: 0.8870 - loss: 0.7047 - val_accuracy: 0.8600 - val_loss: 0.7020 - learning_rate: 1.0000e-04\n",
            "Epoch 14/25\n",
            "\u001b[1m25/25\u001b[0m \u001b[32m━━━━━━━━━━━━━━━━━━━━\u001b[0m\u001b[37m\u001b[0m \u001b[1m0s\u001b[0m 5s/step - accuracy: 0.9470 - loss: 0.6151\n",
            "Epoch 14: val_accuracy did not improve from 0.86000\n",
            "\u001b[1m25/25\u001b[0m \u001b[32m━━━━━━━━━━━━━━━━━━━━\u001b[0m\u001b[37m\u001b[0m \u001b[1m199s\u001b[0m 6s/step - accuracy: 0.9463 - loss: 0.6159 - val_accuracy: 0.8400 - val_loss: 0.7047 - learning_rate: 1.0000e-04\n",
            "Epoch 15/25\n",
            "\u001b[1m25/25\u001b[0m \u001b[32m━━━━━━━━━━━━━━━━━━━━\u001b[0m\u001b[37m\u001b[0m \u001b[1m0s\u001b[0m 5s/step - accuracy: 0.9539 - loss: 0.5871\n",
            "Epoch 15: val_accuracy did not improve from 0.86000\n",
            "\u001b[1m25/25\u001b[0m \u001b[32m━━━━━━━━━━━━━━━━━━━━\u001b[0m\u001b[37m\u001b[0m \u001b[1m201s\u001b[0m 6s/step - accuracy: 0.9533 - loss: 0.5879 - val_accuracy: 0.8100 - val_loss: 0.6857 - learning_rate: 1.0000e-04\n",
            "Epoch 16/25\n",
            "\u001b[1m25/25\u001b[0m \u001b[32m━━━━━━━━━━━━━━━━━━━━\u001b[0m\u001b[37m\u001b[0m \u001b[1m0s\u001b[0m 6s/step - accuracy: 0.9171 - loss: 0.6360\n",
            "Epoch 16: val_accuracy improved from 0.86000 to 0.87000, saving model to best_model_b2.h5\n"
          ]
        },
        {
          "output_type": "stream",
          "name": "stderr",
          "text": [
            "WARNING:absl:You are saving your model as an HDF5 file via `model.save()` or `keras.saving.save_model(model)`. This file format is considered legacy. We recommend using instead the native Keras format, e.g. `model.save('my_model.keras')` or `keras.saving.save_model(model, 'my_model.keras')`. \n"
          ]
        },
        {
          "output_type": "stream",
          "name": "stdout",
          "text": [
            "\b\b\b\b\b\b\b\b\b\b\b\b\b\b\b\b\b\b\b\b\b\b\b\b\b\b\b\b\b\b\b\b\b\b\b\b\b\b\b\b\b\b\b\b\b\b\b\b\b\b\b\b\b\b\b\b\b\b\b\b\b\b\b\b\b\b\b\b\b\b\b\r\u001b[1m25/25\u001b[0m \u001b[32m━━━━━━━━━━━━━━━━━━━━\u001b[0m\u001b[37m\u001b[0m \u001b[1m163s\u001b[0m 7s/step - accuracy: 0.9174 - loss: 0.6354 - val_accuracy: 0.8700 - val_loss: 0.6562 - learning_rate: 1.0000e-04\n",
            "Epoch 17/25\n",
            "\u001b[1m25/25\u001b[0m \u001b[32m━━━━━━━━━━━━━━━━━━━━\u001b[0m\u001b[37m\u001b[0m \u001b[1m0s\u001b[0m 5s/step - accuracy: 0.9541 - loss: 0.5691\n",
            "Epoch 17: val_accuracy did not improve from 0.87000\n",
            "\u001b[1m25/25\u001b[0m \u001b[32m━━━━━━━━━━━━━━━━━━━━\u001b[0m\u001b[37m\u001b[0m \u001b[1m187s\u001b[0m 6s/step - accuracy: 0.9544 - loss: 0.5688 - val_accuracy: 0.8500 - val_loss: 0.6616 - learning_rate: 1.0000e-04\n",
            "Epoch 18/25\n",
            "\u001b[1m25/25\u001b[0m \u001b[32m━━━━━━━━━━━━━━━━━━━━\u001b[0m\u001b[37m\u001b[0m \u001b[1m0s\u001b[0m 5s/step - accuracy: 0.9858 - loss: 0.5354\n",
            "Epoch 18: val_accuracy did not improve from 0.87000\n",
            "\u001b[1m25/25\u001b[0m \u001b[32m━━━━━━━━━━━━━━━━━━━━\u001b[0m\u001b[37m\u001b[0m \u001b[1m195s\u001b[0m 6s/step - accuracy: 0.9855 - loss: 0.5356 - val_accuracy: 0.8500 - val_loss: 0.6725 - learning_rate: 1.0000e-04\n",
            "Epoch 19/25\n",
            "\u001b[1m25/25\u001b[0m \u001b[32m━━━━━━━━━━━━━━━━━━━━\u001b[0m\u001b[37m\u001b[0m \u001b[1m0s\u001b[0m 6s/step - accuracy: 0.9664 - loss: 0.5317\n",
            "Epoch 19: val_accuracy did not improve from 0.87000\n",
            "\n",
            "Epoch 19: ReduceLROnPlateau reducing learning rate to 4.999999873689376e-05.\n",
            "\u001b[1m25/25\u001b[0m \u001b[32m━━━━━━━━━━━━━━━━━━━━\u001b[0m\u001b[37m\u001b[0m \u001b[1m148s\u001b[0m 6s/step - accuracy: 0.9667 - loss: 0.5318 - val_accuracy: 0.8600 - val_loss: 0.6541 - learning_rate: 1.0000e-04\n",
            "Epoch 20/25\n",
            "\u001b[1m25/25\u001b[0m \u001b[32m━━━━━━━━━━━━━━━━━━━━\u001b[0m\u001b[37m\u001b[0m \u001b[1m0s\u001b[0m 5s/step - accuracy: 0.9933 - loss: 0.5182\n",
            "Epoch 20: val_accuracy did not improve from 0.87000\n",
            "\u001b[1m25/25\u001b[0m \u001b[32m━━━━━━━━━━━━━━━━━━━━\u001b[0m\u001b[37m\u001b[0m \u001b[1m143s\u001b[0m 6s/step - accuracy: 0.9930 - loss: 0.5184 - val_accuracy: 0.8600 - val_loss: 0.6364 - learning_rate: 5.0000e-05\n",
            "Epoch 21/25\n",
            "\u001b[1m25/25\u001b[0m \u001b[32m━━━━━━━━━━━━━━━━━━━━\u001b[0m\u001b[37m\u001b[0m \u001b[1m0s\u001b[0m 5s/step - accuracy: 0.9706 - loss: 0.5188\n",
            "Epoch 21: val_accuracy did not improve from 0.87000\n",
            "\u001b[1m25/25\u001b[0m \u001b[32m━━━━━━━━━━━━━━━━━━━━\u001b[0m\u001b[37m\u001b[0m \u001b[1m198s\u001b[0m 6s/step - accuracy: 0.9701 - loss: 0.5198 - val_accuracy: 0.8700 - val_loss: 0.6275 - learning_rate: 5.0000e-05\n",
            "Epoch 22/25\n",
            "\u001b[1m25/25\u001b[0m \u001b[32m━━━━━━━━━━━━━━━━━━━━\u001b[0m\u001b[37m\u001b[0m \u001b[1m0s\u001b[0m 5s/step - accuracy: 0.9614 - loss: 0.5382\n",
            "Epoch 22: val_accuracy did not improve from 0.87000\n",
            "\n",
            "Epoch 22: ReduceLROnPlateau reducing learning rate to 2.499999936844688e-05.\n",
            "\u001b[1m25/25\u001b[0m \u001b[32m━━━━━━━━━━━━━━━━━━━━\u001b[0m\u001b[37m\u001b[0m \u001b[1m146s\u001b[0m 6s/step - accuracy: 0.9616 - loss: 0.5379 - val_accuracy: 0.8600 - val_loss: 0.6527 - learning_rate: 5.0000e-05\n",
            "Epoch 23/25\n",
            "\u001b[1m25/25\u001b[0m \u001b[32m━━━━━━━━━━━━━━━━━━━━\u001b[0m\u001b[37m\u001b[0m \u001b[1m0s\u001b[0m 5s/step - accuracy: 0.9712 - loss: 0.5428\n",
            "Epoch 23: val_accuracy did not improve from 0.87000\n",
            "\u001b[1m25/25\u001b[0m \u001b[32m━━━━━━━━━━━━━━━━━━━━\u001b[0m\u001b[37m\u001b[0m \u001b[1m201s\u001b[0m 6s/step - accuracy: 0.9711 - loss: 0.5427 - val_accuracy: 0.8500 - val_loss: 0.6459 - learning_rate: 2.5000e-05\n",
            "\u001b[1m4/4\u001b[0m \u001b[32m━━━━━━━━━━━━━━━━━━━━\u001b[0m\u001b[37m\u001b[0m \u001b[1m8s\u001b[0m 2s/step - accuracy: 0.8824 - loss: 0.6378\n",
            "\n",
            "✅ Best Accuracy with EfficientNetV2B2: 87.00%\n"
          ]
        }
      ]
    },
    {
      "cell_type": "code",
      "source": [
        "# -----------------------------\n",
        "# Confusion Matrix & Classification Report\n",
        "# -----------------------------\n",
        "from sklearn.metrics import classification_report, confusion_matrix\n",
        "import seaborn as sns\n",
        "import matplotlib.pyplot as plt\n",
        "\n",
        "# Predict class probabilities\n",
        "y_pred_probs = model.predict([X_test_img, X_test_tab])\n",
        "# Convert probabilities to class indices\n",
        "y_pred = np.argmax(y_pred_probs, axis=1)\n",
        "y_true = np.argmax(y_test, axis=1)\n",
        "\n",
        "# Classification report\n",
        "print(\"\\nClassification Report:\")\n",
        "print(classification_report(y_true, y_pred, target_names=classes))\n",
        "\n",
        "# Confusion matrix\n",
        "cm = confusion_matrix(y_true, y_pred)\n",
        "\n",
        "plt.figure(figsize=(8, 6))\n",
        "sns.heatmap(cm, annot=True, fmt='d', cmap='Blues', xticklabels=classes, yticklabels=classes)\n",
        "plt.xlabel('Predicted')\n",
        "plt.ylabel('Actual')\n",
        "plt.title('Confusion Matrix')\n",
        "plt.tight_layout()\n",
        "plt.show()\n",
        "\n",
        "# -----------------------------\n",
        "# Accuracy and Loss Plots\n",
        "# -----------------------------\n",
        "plt.figure(figsize=(12, 5))\n",
        "\n",
        "# Accuracy plot\n",
        "plt.subplot(1, 2, 1)\n",
        "plt.plot(history.history['accuracy'], label='Train Accuracy')\n",
        "plt.plot(history.history['val_accuracy'], label='Validation Accuracy')\n",
        "plt.title('Model Accuracy Over Epochs')\n",
        "plt.xlabel('Epoch')\n",
        "plt.ylabel('Accuracy')\n",
        "plt.legend()\n",
        "\n",
        "# Loss plot\n",
        "plt.subplot(1, 2, 2)\n",
        "plt.plot(history.history['loss'], label='Train Loss')\n",
        "plt.plot(history.history['val_loss'], label='Validation Loss')\n",
        "plt.title('Model Loss Over Epochs')\n",
        "plt.xlabel('Epoch')\n",
        "plt.ylabel('Loss')\n",
        "plt.legend()\n",
        "\n",
        "plt.tight_layout()\n",
        "plt.show()"
      ],
      "metadata": {
        "colab": {
          "base_uri": "https://localhost:8080/",
          "height": 1000
        },
        "id": "VVJ5oBDLmF4v",
        "outputId": "9561273e-711d-436b-f38e-6d610b7516e0"
      },
      "execution_count": 12,
      "outputs": [
        {
          "output_type": "stream",
          "name": "stdout",
          "text": [
            "\u001b[1m4/4\u001b[0m \u001b[32m━━━━━━━━━━━━━━━━━━━━\u001b[0m\u001b[37m\u001b[0m \u001b[1m21s\u001b[0m 4s/step\n",
            "\n",
            "Classification Report:\n",
            "               precision    recall  f1-score   support\n",
            "\n",
            "     Mucinous       0.96      0.81      0.88        27\n",
            "Non_Cancerous       0.80      0.75      0.77        16\n",
            "    Endometri       0.93      0.88      0.90        16\n",
            "       Serous       0.89      1.00      0.94        16\n",
            "   Clear_Cell       0.79      0.92      0.85        25\n",
            "\n",
            "     accuracy                           0.87       100\n",
            "    macro avg       0.87      0.87      0.87       100\n",
            " weighted avg       0.88      0.87      0.87       100\n",
            "\n"
          ]
        },
        {
          "output_type": "display_data",
          "data": {
            "text/plain": [
              "<Figure size 800x600 with 2 Axes>"
            ],
            "image/png": "[encoded data removed]"
          },
          "metadata": {}
        },
        {
          "output_type": "display_data",
          "data": {
            "text/plain": [
              "<Figure size 1200x500 with 2 Axes>"
            ],
            "image/png": "[encoded data removed]"
          },
          "metadata": {}
        }
      ]
    },
    {
      "cell_type": "code",
      "source": [
        "!pip install lime shap scipy\n"
      ],
      "metadata": {
        "colab": {
          "base_uri": "https://localhost:8080/"
        },
        "id": "KXyobCFGWDMf",
        "outputId": "12f13519-488b-4d20-f355-0b518a10eea8"
      },
      "execution_count": 9,
      "outputs": [
        {
          "output_type": "stream",
          "name": "stdout",
          "text": [
            "Requirement already satisfied: lime in /usr/local/lib/python3.11/dist-packages (0.2.0.1)\n",
            "Requirement already satisfied: shap in /usr/local/lib/python3.11/dist-packages (0.47.2)\n",
            "Requirement already satisfied: scipy in /usr/local/lib/python3.11/dist-packages (1.15.2)\n",
            "Requirement already satisfied: matplotlib in /usr/local/lib/python3.11/dist-packages (from lime) (3.10.0)\n",
            "Requirement already satisfied: numpy in /usr/local/lib/python3.11/dist-packages (from lime) (2.0.2)\n",
            "Requirement already satisfied: tqdm in /usr/local/lib/python3.11/dist-packages (from lime) (4.67.1)\n",
            "Requirement already satisfied: scikit-learn>=0.18 in /usr/local/lib/python3.11/dist-packages (from lime) (1.6.1)\n",
            "Requirement already satisfied: scikit-image>=0.12 in /usr/local/lib/python3.11/dist-packages (from lime) (0.25.2)\n",
            "Requirement already satisfied: pandas in /usr/local/lib/python3.11/dist-packages (from shap) (2.2.2)\n",
            "Requirement already satisfied: packaging>20.9 in /usr/local/lib/python3.11/dist-packages (from shap) (24.2)\n",
            "Requirement already satisfied: slicer==0.0.8 in /usr/local/lib/python3.11/dist-packages (from shap) (0.0.8)\n",
            "Requirement already satisfied: numba>=0.54 in /usr/local/lib/python3.11/dist-packages (from shap) (0.60.0)\n",
            "Requirement already satisfied: cloudpickle in /usr/local/lib/python3.11/dist-packages (from shap) (3.1.1)\n",
            "Requirement already satisfied: typing-extensions in /usr/local/lib/python3.11/dist-packages (from shap) (4.13.2)\n",
            "Requirement already satisfied: llvmlite<0.44,>=0.43.0dev0 in /usr/local/lib/python3.11/dist-packages (from numba>=0.54->shap) (0.43.0)\n",
            "Requirement already satisfied: networkx>=3.0 in /usr/local/lib/python3.11/dist-packages (from scikit-image>=0.12->lime) (3.4.2)\n",
            "Requirement already satisfied: pillow>=10.1 in /usr/local/lib/python3.11/dist-packages (from scikit-image>=0.12->lime) (11.2.1)\n",
            "Requirement already satisfied: imageio!=2.35.0,>=2.33 in /usr/local/lib/python3.11/dist-packages (from scikit-image>=0.12->lime) (2.37.0)\n",
            "Requirement already satisfied: tifffile>=2022.8.12 in /usr/local/lib/python3.11/dist-packages (from scikit-image>=0.12->lime) (2025.3.30)\n",
            "Requirement already satisfied: lazy-loader>=0.4 in /usr/local/lib/python3.11/dist-packages (from scikit-image>=0.12->lime) (0.4)\n",
            "Requirement already satisfied: joblib>=1.2.0 in /usr/local/lib/python3.11/dist-packages (from scikit-learn>=0.18->lime) (1.4.2)\n",
            "Requirement already satisfied: threadpoolctl>=3.1.0 in /usr/local/lib/python3.11/dist-packages (from scikit-learn>=0.18->lime) (3.6.0)\n",
            "Requirement already satisfied: contourpy>=1.0.1 in /usr/local/lib/python3.11/dist-packages (from matplotlib->lime) (1.3.2)\n",
            "Requirement already satisfied: cycler>=0.10 in /usr/local/lib/python3.11/dist-packages (from matplotlib->lime) (0.12.1)\n",
            "Requirement already satisfied: fonttools>=4.22.0 in /usr/local/lib/python3.11/dist-packages (from matplotlib->lime) (4.57.0)\n",
            "Requirement already satisfied: kiwisolver>=1.3.1 in /usr/local/lib/python3.11/dist-packages (from matplotlib->lime) (1.4.8)\n",
            "Requirement already satisfied: pyparsing>=2.3.1 in /usr/local/lib/python3.11/dist-packages (from matplotlib->lime) (3.2.3)\n",
            "Requirement already satisfied: python-dateutil>=2.7 in /usr/local/lib/python3.11/dist-packages (from matplotlib->lime) (2.9.0.post0)\n",
            "Requirement already satisfied: pytz>=2020.1 in /usr/local/lib/python3.11/dist-packages (from pandas->shap) (2025.2)\n",
            "Requirement already satisfied: tzdata>=2022.7 in /usr/local/lib/python3.11/dist-packages (from pandas->shap) (2025.2)\n",
            "Requirement already satisfied: six>=1.5 in /usr/local/lib/python3.11/dist-packages (from python-dateutil>=2.7->matplotlib->lime) (1.17.0)\n"
          ]
        }
      ]
    },
    {
      "cell_type": "code",
      "source": [
        "import pandas as pd\n",
        "import numpy as np\n",
        "import shap\n",
        "import lime\n",
        "import lime.lime_tabular\n",
        "from scipy.stats import ttest_ind\n",
        "import matplotlib.pyplot as plt\n",
        "\n",
        "# Load dataset to get features\n",
        "df = pd.read_csv(\"Ovarian_patient_data.csv\")\n",
        "# Selecting the same features used for training the model\n",
        "features = ['age', 'ca125', 'cancerstage', 'bmi']  # This should match the features used in your model training\n",
        "num_features = len(features)\n",
        "\n",
        "# Confirm feature alignment with model input\n",
        "assert X_test_tab.shape[1] == num_features, f\"Data has {X_test_tab.shape[1]} features, CSV has {num_features}.\"\n",
        "\n",
        "# Sample subset\n",
        "num_samples = 5\n",
        "X_tab_explain = X_test_tab[:num_samples]\n",
        "X_img_explain = X_test_img[:num_samples]\n",
        "\n",
        "# SHAP explanation\n",
        "print(\"\\n🧠 SHAP KernelExplainer for Class 0...\")\n",
        "\n",
        "def multimodal_predict_tab(data):\n",
        "    img_batch = np.repeat(X_img_explain[:1], data.shape[0], axis=0)\n",
        "    return model.predict([img_batch, data])\n",
        "\n",
        "explainer = shap.KernelExplainer(multimodal_predict_tab, X_tab_explain)\n",
        "shap_values = explainer.shap_values(X_tab_explain)\n",
        "\n",
        "# SHAP bar plot for class 0\n",
        "class_index = 0\n",
        "shap_vals = shap_values[class_index]\n",
        "mean_abs = np.abs(shap_vals).mean(axis=0)\n",
        "\n",
        "# Sort feature importances\n",
        "sorted_idx = np.argsort(mean_abs)[::-1]\n",
        "# Ensure sorted_idx is within the range of features\n",
        "sorted_idx = sorted_idx[sorted_idx < len(features)]  # Filter indices\n",
        "sorted_features = [features[i] for i in sorted_idx]\n",
        "sorted_importance = mean_abs[sorted_idx]\n",
        "\n",
        "\n",
        "# Plot\n",
        "print(f\"\\n📊 SHAP Bar Plot for Class 0 ({classes[class_index]})\")\n",
        "plt.figure(figsize=(10, 6))\n",
        "plt.barh(sorted_features[::-1], sorted_importance[::-1], color='mediumseagreen')\n",
        "plt.xlabel(\"Mean |SHAP value|\")\n",
        "plt.title(f\"SHAP Feature Importance - Class {classes[class_index]}\")\n",
        "plt.tight_layout()\n",
        "plt.show()\n",
        "\n",
        "# Top contributors\n",
        "print(\"\\n📌 Top 5 Contributing Features:\")\n",
        "for feat, val in zip(sorted_features[:5], sorted_importance[:5]):\n",
        "    print(f\"• {feat}: {val:.4f}\")\n",
        "\n",
        "# LIME explanation\n",
        "print(\"\\n🔍 LIME Explanation for Instance 0...\")\n",
        "lime_explainer = lime.lime_tabular.LimeTabularExplainer(\n",
        "    training_data=X_train_tab,\n",
        "    feature_names=features,\n",
        "    class_names=classes,\n",
        "    mode='classification'\n",
        ")\n",
        "\n",
        "lime_exp = lime_explainer.explain_instance(\n",
        "    X_tab_explain[0],\n",
        "    lambda x: model.predict([np.repeat(X_img_explain[0:1], x.shape[0], axis=0), x]),\n",
        "    num_features=len(features)\n",
        ")\n",
        "\n",
        "lime_exp.show_in_notebook(show_table=True)\n",
        "\n",
        "# T-test\n",
        "print(\"\\n🧪 T-Test on Class Probabilities...\")\n",
        "probs = model.predict([X_test_img, X_test_tab])\n",
        "t_stat, p_val = ttest_ind(probs[:, 0], probs[:, 1])\n",
        "print(f\"T-test for '{classes[0]}' vs '{classes[1]}': T = {t_stat:.4f}, P = {p_val:.4e}\")\n",
        "print(\"✅ Significant difference\" if p_val < 0.05 else \"❌ Not significant\")"
      ],
      "metadata": {
        "id": "VXJ2j60Qw7hD"
      },
      "execution_count": null,
      "outputs": []
    }
  ]
}